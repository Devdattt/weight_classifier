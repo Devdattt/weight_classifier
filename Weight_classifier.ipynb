{
  "nbformat": 4,
  "nbformat_minor": 0,
  "metadata": {
    "colab": {
      "provenance": [],
      "authorship_tag": "ABX9TyPPhSn0SlFL4wCjp3oV5kkc",
      "include_colab_link": true
    },
    "kernelspec": {
      "name": "python3",
      "display_name": "Python 3"
    },
    "language_info": {
      "name": "python"
    }
  },
  "cells": [
    {
      "cell_type": "markdown",
      "metadata": {
        "id": "view-in-github",
        "colab_type": "text"
      },
      "source": [
        "<a href=\"https://colab.research.google.com/github/Devdattt/weight_classifier/blob/main/Weight_classifier.ipynb\" target=\"_parent\"><img src=\"https://colab.research.google.com/assets/colab-badge.svg\" alt=\"Open In Colab\"/></a>"
      ]
    },
    {
      "cell_type": "code",
      "execution_count": 2,
      "metadata": {
        "colab": {
          "base_uri": "https://localhost:8080/"
        },
        "id": "dm4745i6BKS0",
        "outputId": "a935afc1-65e7-4139-e423-97f8307909a4"
      },
      "outputs": [
        {
          "output_type": "stream",
          "name": "stdout",
          "text": [
            "Weight : 87, | Actual : Unfit | Predicted : Fit\n",
            "Weight : 78, | Actual : Unfit | Predicted : Fit\n",
            "Weight : 78, | Actual : Unfit | Predicted : Fit\n",
            "Weight : 81, | Actual : Unfit | Predicted : Fit\n",
            "Weight : 98, | Actual : Unfit | Predicted : Fit\n",
            "Weight : 43, | Actual : Unfit | Predicted : Unfit\n",
            "Weight : 54, | Actual : Fit | Predicted : Fit\n",
            "Weight : 91, | Actual : Unfit | Predicted : Unfit\n",
            "Weight : 78, | Actual : Unfit | Predicted : Fit\n",
            "Weight : 63, | Actual : Fit | Predicted : Unfit\n",
            "Weight : 45, | Actual : Unfit | Predicted : Unfit\n",
            "Weight : 87, | Actual : Unfit | Predicted : Unfit\n",
            "Weight : 100, | Actual : Unfit | Predicted : Fit\n",
            "Weight : 47, | Actual : Unfit | Predicted : Unfit\n",
            "Weight : 84, | Actual : Unfit | Predicted : Fit\n",
            "Weight : 49, | Actual : Unfit | Predicted : Unfit\n",
            "Weight : 85, | Actual : Unfit | Predicted : Fit\n",
            "Weight : 79, | Actual : Unfit | Predicted : Unfit\n",
            "Weight : 41, | Actual : Unfit | Predicted : Fit\n",
            "Weight : 55, | Actual : Fit | Predicted : Fit\n",
            "\n",
            "Accuracy : 45.00%\n"
          ]
        }
      ],
      "source": [
        "import random\n",
        "\n",
        "def generate_data(num_samples = 10):\n",
        "  data = []\n",
        "  for i in range(num_samples):\n",
        "    weight = random.randint(40, 100)\n",
        "    label = 'Fit' if 50<= weight < 75 else 'Unfit'\n",
        "    data.append((weight, label))\n",
        "  return data\n",
        "\n",
        "def random_classifier():\n",
        "  return random.choice(['Fit', 'Unfit'])\n",
        "\n",
        "def evalute_model(dataset):\n",
        "  correct = 0\n",
        "  for weight, actual in data:\n",
        "    prediction = random_classifier()\n",
        "    print(f\"Weight : {weight}, | Actual : {actual} | Predicted : {prediction}\")\n",
        "    if prediction == actual:\n",
        "      correct += 1\n",
        "  accuracy = correct/len(data)\n",
        "  print(f\"\\nAccuracy : {accuracy * 100:.2f}%\")\n",
        "\n",
        "data = generate_data(20)\n",
        "evalute_model(data)\n"
      ]
    },
    {
      "cell_type": "markdown",
      "source": [
        "Weight Classifier using Sklearn library\n",
        "We can see sheer diffrence between two model's acuracy"
      ],
      "metadata": {
        "id": "H35ENynefHqs"
      }
    },
    {
      "cell_type": "code",
      "source": [
        "import random\n",
        "from sklearn.model_selection import train_test_split\n",
        "from sklearn.tree import DecisionTreeClassifier\n",
        "from sklearn.metrics import accuracy_score\n",
        "\n",
        "# Step 1: Generate fake data\n",
        "weights = []\n",
        "labels = []\n",
        "\n",
        "for i in range(100):\n",
        "    weight = random.randint(40, 100)\n",
        "    label = 1 if 50 <= weight < 75 else 0  # 1 = Fit, 0 = Unfit\n",
        "    weights.append([weight])  # X must be 2D for sklearn\n",
        "    labels.append(label)\n",
        "\n",
        "# Step 2: Split data into training and testing\n",
        "X_train, X_test, y_train, y_test = train_test_split(weights, labels, test_size=0.2, random_state=42)\n",
        "\n",
        "# Step 3: Create and train the model\n",
        "model = DecisionTreeClassifier()\n",
        "model.fit(X_train, y_train)\n",
        "\n",
        "# Step 4: Predict and evaluate\n",
        "y_pred = model.predict(X_test)\n",
        "accuracy = accuracy_score(y_test, y_pred)\n",
        "\n",
        "# Step 5: Show results\n",
        "for i in range(len(X_test)):\n",
        "    actual = \"Fit\" if y_test[i] == 1 else \"Unfit\"\n",
        "    predicted = \"Fit\" if y_pred[i] == 1 else \"Unfit\"\n",
        "    print(f\"Weight: {X_test[i][0]} | Actual: {actual} | Predicted: {predicted}\")\n",
        "\n",
        "print(f\"\\nModel Accuracy: {accuracy * 100:.2f}%\")"
      ],
      "metadata": {
        "id": "3Ow4hYLsLZ7u",
        "colab": {
          "base_uri": "https://localhost:8080/"
        },
        "outputId": "0346044f-be92-4ff6-f2a9-0174b7058a3b"
      },
      "execution_count": 4,
      "outputs": [
        {
          "output_type": "stream",
          "name": "stdout",
          "text": [
            "Weight: 94 | Actual: Unfit | Predicted: Unfit\n",
            "Weight: 45 | Actual: Unfit | Predicted: Unfit\n",
            "Weight: 92 | Actual: Unfit | Predicted: Unfit\n",
            "Weight: 69 | Actual: Fit | Predicted: Fit\n",
            "Weight: 54 | Actual: Fit | Predicted: Fit\n",
            "Weight: 77 | Actual: Unfit | Predicted: Unfit\n",
            "Weight: 87 | Actual: Unfit | Predicted: Unfit\n",
            "Weight: 48 | Actual: Unfit | Predicted: Unfit\n",
            "Weight: 42 | Actual: Unfit | Predicted: Unfit\n",
            "Weight: 66 | Actual: Fit | Predicted: Fit\n",
            "Weight: 76 | Actual: Unfit | Predicted: Unfit\n",
            "Weight: 89 | Actual: Unfit | Predicted: Unfit\n",
            "Weight: 85 | Actual: Unfit | Predicted: Unfit\n",
            "Weight: 71 | Actual: Fit | Predicted: Fit\n",
            "Weight: 76 | Actual: Unfit | Predicted: Unfit\n",
            "Weight: 91 | Actual: Unfit | Predicted: Unfit\n",
            "Weight: 50 | Actual: Fit | Predicted: Fit\n",
            "Weight: 52 | Actual: Fit | Predicted: Fit\n",
            "Weight: 72 | Actual: Fit | Predicted: Fit\n",
            "Weight: 41 | Actual: Unfit | Predicted: Unfit\n",
            "\n",
            "Model Accuracy: 100.00%\n"
          ]
        }
      ]
    },
    {
      "cell_type": "code",
      "source": [],
      "metadata": {
        "id": "Mhw627nNfYhL"
      },
      "execution_count": null,
      "outputs": []
    }
  ]
}