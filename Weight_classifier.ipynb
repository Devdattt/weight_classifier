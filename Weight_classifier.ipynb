{
  "nbformat": 4,
  "nbformat_minor": 0,
  "metadata": {
    "colab": {
      "provenance": [],
      "authorship_tag": "ABX9TyMKnw+s0FbyhaYSyQABFiy5",
      "include_colab_link": true
    },
    "kernelspec": {
      "name": "python3",
      "display_name": "Python 3"
    },
    "language_info": {
      "name": "python"
    }
  },
  "cells": [
    {
      "cell_type": "markdown",
      "metadata": {
        "id": "view-in-github",
        "colab_type": "text"
      },
      "source": [
        "<a href=\"https://colab.research.google.com/github/Devdattt/weight_classifier/blob/main/Weight_classifier.ipynb\" target=\"_parent\"><img src=\"https://colab.research.google.com/assets/colab-badge.svg\" alt=\"Open In Colab\"/></a>"
      ]
    },
    {
      "cell_type": "code",
      "execution_count": null,
      "metadata": {
        "colab": {
          "base_uri": "https://localhost:8080/"
        },
        "id": "dm4745i6BKS0",
        "outputId": "8d5e2255-f6d1-4c5e-a7ea-e0bf548485a7"
      },
      "outputs": [
        {
          "output_type": "stream",
          "name": "stdout",
          "text": [
            "Weight : 100, | Actual : Unfit | Predicted : Fit\n",
            "Weight : 42, | Actual : Unfit | Predicted : Unfit\n",
            "Weight : 45, | Actual : Unfit | Predicted : Fit\n",
            "Weight : 68, | Actual : Fit | Predicted : Unfit\n",
            "Weight : 69, | Actual : Fit | Predicted : Fit\n",
            "Weight : 60, | Actual : Fit | Predicted : Fit\n",
            "Weight : 43, | Actual : Unfit | Predicted : Unfit\n",
            "Weight : 59, | Actual : Fit | Predicted : Fit\n",
            "Weight : 67, | Actual : Fit | Predicted : Fit\n",
            "Weight : 98, | Actual : Unfit | Predicted : Unfit\n",
            "Weight : 69, | Actual : Fit | Predicted : Unfit\n",
            "Weight : 50, | Actual : Fit | Predicted : Unfit\n",
            "Weight : 70, | Actual : Fit | Predicted : Fit\n",
            "Weight : 99, | Actual : Unfit | Predicted : Fit\n",
            "Weight : 98, | Actual : Unfit | Predicted : Unfit\n",
            "Weight : 100, | Actual : Unfit | Predicted : Unfit\n",
            "Weight : 100, | Actual : Unfit | Predicted : Unfit\n",
            "Weight : 63, | Actual : Fit | Predicted : Unfit\n",
            "Weight : 89, | Actual : Unfit | Predicted : Fit\n",
            "Weight : 58, | Actual : Fit | Predicted : Unfit\n",
            "\n",
            "Accuracy : 55.00%\n"
          ]
        }
      ],
      "source": [
        "import random\n",
        "\n",
        "def generate_data(num_samples = 10):\n",
        "  data = []\n",
        "  for i in range(num_samples):\n",
        "    weight = random.randint(40, 100)\n",
        "    label = 'Fit' if 50<= weight < 75 else 'Unfit'\n",
        "    data.append((weight, label))\n",
        "  return data\n",
        "\n",
        "def random_classifier():\n",
        "  return random.choice(['Fit', 'Unfit'])\n",
        "\n",
        "def evalute_model(dataset):\n",
        "  correct = 0\n",
        "  for weight, actual in data:\n",
        "    prediction = random_classifier()\n",
        "    print(f\"Weight : {weight}, | Actual : {actual} | Predicted : {prediction}\")\n",
        "    if prediction == actual:\n",
        "      correct += 1\n",
        "  accuracy = correct/len(data)\n",
        "  print(f\"\\nAccuracy : {accuracy * 100:.2f}%\")\n",
        "\n",
        "data = generate_data(20)\n",
        "evalute_model(data)\n"
      ]
    },
    {
      "cell_type": "code",
      "source": [],
      "metadata": {
        "id": "3Ow4hYLsLZ7u"
      },
      "execution_count": null,
      "outputs": []
    }
  ]
}